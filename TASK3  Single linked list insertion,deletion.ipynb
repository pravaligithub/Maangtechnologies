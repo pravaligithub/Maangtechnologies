{
 "cells": [
  {
   "cell_type": "code",
   "execution_count": 3,
   "id": "abff4e22-bb6b-45b4-a78b-a2dab61dde91",
   "metadata": {},
   "outputs": [
    {
     "name": "stdout",
     "output_type": "stream",
     "text": [
      "10 --> 20 --> 30 --> 40 --> "
     ]
    }
   ],
   "source": [
    "class Node:\n",
    "      def __init__(self,data):\n",
    "          self.data=data\n",
    "          self.next=None\n",
    "class SLL:\n",
    "      def __init__(self):  \n",
    "          self.head=None  #no nodes\n",
    "          \n",
    "      def display(self):\n",
    "          \n",
    "          if self.head is None:\n",
    "              print(\"Empty\")\n",
    "          else:\n",
    "             temp=self.head   #with temp we can traverse from begin to end\n",
    "             while temp:\n",
    "                  print(temp.data,\"-->\",end=\" \")\n",
    "                  temp=temp.next\n",
    "                 \n",
    "L=SLL()    #class object\n",
    "n1=Node(10)\n",
    "L.head=n1\n",
    "n2=Node(20)\n",
    "L.head.next=n2   #n1.next=n2\n",
    "n3=Node(30)\n",
    "n2.next=n3\n",
    "n4=Node(40)\n",
    "n3.next=n4\n",
    "L.display()\n",
    "\n",
    "\n",
    "       "
   ]
  },
  {
   "cell_type": "code",
   "execution_count": null,
   "id": "c7155d2e-d974-460a-8a07-83a6504ebf26",
   "metadata": {},
   "outputs": [],
   "source": []
  },
  {
   "cell_type": "code",
   "execution_count": null,
   "id": "f9bfa223-167f-4ab6-aa69-2346615baab5",
   "metadata": {},
   "outputs": [],
   "source": [
    "#inserting at beginning\n"
   ]
  },
  {
   "cell_type": "code",
   "execution_count": 12,
   "id": "c54af92f-a21e-4f6a-bb92-9fbbcd32afc3",
   "metadata": {},
   "outputs": [
    {
     "name": "stdout",
     "output_type": "stream",
     "text": [
      "3 --> 5 --> 10 --> 20 --> 25 --> 30 --> 40 --> 6 --> 7 --> "
     ]
    }
   ],
   "source": [
    "\n",
    "\n",
    "class Node:\n",
    "      def __init__(self,data):\n",
    "          self.data=data\n",
    "          self.next=None\n",
    "class SLL:\n",
    "      def __init__(self):  \n",
    "          self.head=None  #no nodes\n",
    "#insert at beginning\n",
    "    \n",
    "      def insertbeg(self,data):\n",
    "           nb=Node(data)\n",
    "           nb.next=self.head\n",
    "           self.head=nb\n",
    "\n",
    " #insert at ending\n",
    "\n",
    "     def insertend(self,data):\n",
    "          nb=Node(data)\n",
    "          temp=self.head\n",
    "          while temp.next:\n",
    "                 temp=temp.next\n",
    "          temp.next=nb  \n",
    "          \n",
    "      def insertpos(self,pos,data):\n",
    "          #pos=index\n",
    "          nb=Node(data)\n",
    "          temp=self.head\n",
    "          for i in range(pos-1):\n",
    "              temp=temp.next\n",
    "          nb.data=data\n",
    "          nb.next=temp.next\n",
    "          temp.next=nb\n",
    "     \n",
    "      def display(self):\n",
    "          \n",
    "          if self.head is None:\n",
    "              print(\"Empty\")\n",
    "          else:\n",
    "             temp=self.head   #with temp we can traverse from begin to end\n",
    "             while temp:\n",
    "                  print(temp.data,\"-->\",end=\" \")\n",
    "                  temp=temp.next\n",
    "                 \n",
    "L=SLL()    #class object\n",
    "n1=Node(10)\n",
    "L.head=n1\n",
    "n2=Node(20)\n",
    "L.head.next=n2   #n1.next=n2\n",
    "n3=Node(30)\n",
    "n2.next=n3\n",
    "n4=Node(40)\n",
    "n3.next=n4\n",
    "L.insertbeg(5)\n",
    "L.insertbeg(3)\n",
    "L.insertend(6)\n",
    "L.insertend(7)\n",
    "L.insertpos(4,25)\n",
    "#L.insertpos(6,12)\n",
    "L.display()\n",
    "\n",
    "\n",
    "       "
   ]
  },
  {
   "cell_type": "code",
   "execution_count": 15,
   "id": "e1df77d7-e626-4aa7-9cdf-80317fc2be8b",
   "metadata": {},
   "outputs": [
    {
     "name": "stdout",
     "output_type": "stream",
     "text": [
      "20 --> 30 --> 40 --> "
     ]
    }
   ],
   "source": [
    "class Node:\n",
    "      def __init__(self,data):\n",
    "          self.data=data\n",
    "          self.next=None\n",
    "class SLL:\n",
    "      def __init__(self):  \n",
    "          self.head=None  #no nodes\n",
    "\n",
    "          \n",
    "      def display(self):\n",
    "          \n",
    "          if self.head is None:\n",
    "              print(\"Empty\")\n",
    "          else:\n",
    "             temp=self.head   #with temp we can traverse from begin to end\n",
    "             while temp:\n",
    "                  print(temp.data,\"-->\",end=\" \")\n",
    "                  temp=temp.next\n",
    "                 \n",
    "      def delbegin(self):\n",
    "            temp=self.head\n",
    "            self.head=temp.next\n",
    "            temp.next=None\n",
    "\n",
    "      def delend(self):\n",
    "          prev=self.head\n",
    "          temp=self.head.next\n",
    "          while temp.next is not None:\n",
    "                 temp=temp.next\n",
    "                 prev=prev.next\n",
    "          prev.next=None\n",
    "\n",
    "      def delpos(self,pos):\n",
    "           prev=self.head\n",
    "           temp=self.head.next\n",
    "           for i in range(1,pos-1):\n",
    "               temp=temp.next\n",
    "               prev=prev.next\n",
    "           prev.next=temp.next\n",
    "           temp.next=None\n",
    "L=SLL()    #class object\n",
    "n1=Node(10)\n",
    "L.head=n1\n",
    "n2=Node(20)\n",
    "L.head.next=n2   #n1.next=n2\n",
    "n3=Node(30)\n",
    "n2.next=n3\n",
    "n4=Node(40)\n",
    "n3.next=n4\n",
    "n5=Node(50)\n",
    "n4.next=n5\n",
    "L.delbegin()\n",
    "L.delend()\n",
    "L.delpos(2)\n",
    "L.display()\n",
    "\n",
    "\n",
    "       "
   ]
  },
  {
   "cell_type": "code",
   "execution_count": null,
   "id": "02b5fde6-0bac-4da7-95b2-86b2c97b6b85",
   "metadata": {},
   "outputs": [],
   "source": []
  }
 ],
 "metadata": {
  "kernelspec": {
   "display_name": "Python 3 (ipykernel)",
   "language": "python",
   "name": "python3"
  },
  "language_info": {
   "codemirror_mode": {
    "name": "ipython",
    "version": 3
   },
   "file_extension": ".py",
   "mimetype": "text/x-python",
   "name": "python",
   "nbconvert_exporter": "python",
   "pygments_lexer": "ipython3",
   "version": "3.10.7"
  }
 },
 "nbformat": 4,
 "nbformat_minor": 5
}
